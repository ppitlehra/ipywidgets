{
 "cells": [
  {
   "cell_type": "code",
   "execution_count": 3,
   "id": "fb72691e",
   "metadata": {},
   "outputs": [],
   "source": [
    "import ipywidgets as ipywidgets"
   ]
  },
  {
   "cell_type": "code",
   "execution_count": 14,
   "id": "2fb79263",
   "metadata": {},
   "outputs": [
    {
     "data": {
      "application/vnd.jupyter.widget-view+json": {
       "model_id": "05c8dee82aac4082a6b0818f29f28069",
       "version_major": 2,
       "version_minor": 0
      },
      "text/plain": [
       "Text(value='', description='Name:', placeholder='type here')"
      ]
     },
     "metadata": {},
     "output_type": "display_data"
    },
    {
     "data": {
      "application/vnd.jupyter.widget-view+json": {
       "model_id": "e2ff2190737b49c59ad4f9afcd9fb467",
       "version_major": 2,
       "version_minor": 0
      },
      "text/plain": [
       "Text(value='', description='Age:', placeholder='type here')"
      ]
     },
     "metadata": {},
     "output_type": "display_data"
    }
   ],
   "source": [
    "name = ipywidgets.Text(value='',\n",
    "                       placeholder='type here',\n",
    "                       description='Name:',\n",
    "                       disabled=False)\n",
    "age = ipywidgets.Text(value='',\n",
    "                       placeholder='type here',\n",
    "                       description='Age:',\n",
    "                       disabled=False)\n",
    "\n",
    "\n",
    "display(name)\n",
    "display(age)\n"
   ]
  },
  {
   "cell_type": "code",
   "execution_count": 15,
   "id": "98f343f2",
   "metadata": {},
   "outputs": [
    {
     "name": "stdout",
     "output_type": "stream",
     "text": [
      "Prajwal\n"
     ]
    }
   ],
   "source": [
    "print (name.value)"
   ]
  },
  {
   "cell_type": "code",
   "execution_count": 16,
   "id": "356dffe4",
   "metadata": {},
   "outputs": [
    {
     "name": "stdout",
     "output_type": "stream",
     "text": [
      "24\n"
     ]
    }
   ],
   "source": [
    "print(age.value)"
   ]
  },
  {
   "cell_type": "code",
   "execution_count": null,
   "id": "424853fe",
   "metadata": {},
   "outputs": [],
   "source": []
  }
 ],
 "metadata": {
  "kernelspec": {
   "display_name": "Analytechs_venv",
   "language": "python",
   "name": "analytechs_venv"
  },
  "language_info": {
   "codemirror_mode": {
    "name": "ipython",
    "version": 3
   },
   "file_extension": ".py",
   "mimetype": "text/x-python",
   "name": "python",
   "nbconvert_exporter": "python",
   "pygments_lexer": "ipython3",
   "version": "3.6.2"
  }
 },
 "nbformat": 4,
 "nbformat_minor": 5
}

{
 "cells": [
  {
   "cell_type": "code",
   "execution_count": 15,
   "id": "9005121f",
   "metadata": {},
   "outputs": [],
   "source": [
    "import ipywidgets as widgets\n",
    "import pandas as pd\n",
    "import numpy as np\n",
    "from sklearn.datasets import load_iris\n",
    "import matplotlib.pyplot as plt"
   ]
  },
  {
   "cell_type": "code",
   "execution_count": 16,
   "id": "0ddd1cd8",
   "metadata": {},
   "outputs": [
    {
     "data": {
      "text/plain": [
       "['sepal length (cm)',\n",
       " 'sepal width (cm)',\n",
       " 'petal length (cm)',\n",
       " 'petal width (cm)']"
      ]
     },
     "execution_count": 16,
     "metadata": {},
     "output_type": "execute_result"
    }
   ],
   "source": [
    "data = load_iris()\n",
    "df = pd.DataFrame(data.data, columns=data.feature_names)\n",
    "df.columns.tolist()"
   ]
  },
  {
   "cell_type": "code",
   "execution_count": 19,
   "id": "251fe4b1",
   "metadata": {},
   "outputs": [
    {
     "data": {
      "application/vnd.jupyter.widget-view+json": {
       "model_id": "eb65d97838f7436599c1fe02ed7267ac",
       "version_major": 2,
       "version_minor": 0
      },
      "text/plain": [
       "Dropdown(description='Parameter X: ', options=('sepal length (cm)', 'sepal width (cm)', 'petal length (cm)', '…"
      ]
     },
     "metadata": {},
     "output_type": "display_data"
    },
    {
     "data": {
      "application/vnd.jupyter.widget-view+json": {
       "model_id": "2a034acc99d747189fafa309dc4e1567",
       "version_major": 2,
       "version_minor": 0
      },
      "text/plain": [
       "Dropdown(description='Parameter Y: ', options=('sepal length (cm)', 'sepal width (cm)', 'petal length (cm)', '…"
      ]
     },
     "metadata": {},
     "output_type": "display_data"
    },
    {
     "data": {
      "application/vnd.jupyter.widget-view+json": {
       "model_id": "70ab19537bbf4765a30a144acdd70296",
       "version_major": 2,
       "version_minor": 0
      },
      "text/plain": [
       "Button(button_style='info', description='Scatter', icon='check', style=ButtonStyle(), tooltip='Click me')"
      ]
     },
     "metadata": {},
     "output_type": "display_data"
    },
    {
     "data": {
      "application/vnd.jupyter.widget-view+json": {
       "model_id": "8abf24fb732145fa8cf50a22e0749a5b",
       "version_major": 2,
       "version_minor": 0
      },
      "text/plain": [
       "Output()"
      ]
     },
     "metadata": {},
     "output_type": "display_data"
    }
   ],
   "source": [
    "df_cols = list(df.columns.values)\n",
    "\n",
    "out = widgets.Output()\n",
    "#define widgets\n",
    "headers_x = widgets.Dropdown(\n",
    "        options=df_cols,\n",
    "        value=df_cols[0],\n",
    "        description='Parameter X: '\n",
    "    )\n",
    "\n",
    "headers_x.set_title  = 'headers_x'\n",
    "\n",
    "headers_y = widgets.Dropdown(\n",
    "        options=df_cols,\n",
    "        value=df_cols[0],\n",
    "        description='Parameter Y: '\n",
    "    )\n",
    "\n",
    "headers_y.set_title  = 'headers_y'\n",
    "\n",
    "b = widgets.Button(\n",
    "    description='Scatter',\n",
    "    disabled=False,\n",
    "    button_style='info',\n",
    "    tooltip='Click me',\n",
    "    icon='check'\n",
    ")\n",
    "display(headers_x)\n",
    "display(headers_y)\n",
    "display(b)\n",
    "display(out)\n",
    "\n",
    "def on_button_clicked(b):\n",
    "    plt.scatter(df[headers_x.value],df[headers_y.value])\n",
    "    with out:\n",
    "        out.clear_output()\n",
    "        plt.show()\n",
    "        \n",
    "b.on_click(on_button_clicked)"
   ]
  },
  {
   "cell_type": "code",
   "execution_count": null,
   "id": "696a5b27",
   "metadata": {},
   "outputs": [],
   "source": []
  },
  {
   "cell_type": "code",
   "execution_count": 12,
   "id": "add0bfd2",
   "metadata": {},
   "outputs": [],
   "source": []
  },
  {
   "cell_type": "code",
   "execution_count": null,
   "id": "849cd7cd",
   "metadata": {},
   "outputs": [],
   "source": [
    "---.observe(fcn_scatter, names='value')"
   ]
  },
  {
   "cell_type": "code",
   "execution_count": null,
   "id": "da815f14",
   "metadata": {},
   "outputs": [],
   "source": [
    "df = pd.read_csv('.csv')"
   ]
  },
  {
   "cell_type": "code",
   "execution_count": null,
   "id": "0500e48b",
   "metadata": {},
   "outputs": [],
   "source": []
  },
  {
   "cell_type": "code",
   "execution_count": null,
   "id": "7e670b15",
   "metadata": {},
   "outputs": [],
   "source": []
  },
  {
   "cell_type": "code",
   "execution_count": null,
   "id": "5cbcb773",
   "metadata": {},
   "outputs": [],
   "source": []
  },
  {
   "cell_type": "code",
   "execution_count": null,
   "id": "fd2185af",
   "metadata": {},
   "outputs": [],
   "source": []
  },
  {
   "cell_type": "code",
   "execution_count": null,
   "id": "cb0e5502",
   "metadata": {},
   "outputs": [],
   "source": []
  }
 ],
 "metadata": {
  "kernelspec": {
   "display_name": "Analytechs_venv",
   "language": "python",
   "name": "analytechs_venv"
  },
  "language_info": {
   "codemirror_mode": {
    "name": "ipython",
    "version": 3
   },
   "file_extension": ".py",
   "mimetype": "text/x-python",
   "name": "python",
   "nbconvert_exporter": "python",
   "pygments_lexer": "ipython3",
   "version": "3.6.2"
  }
 },
 "nbformat": 4,
 "nbformat_minor": 5
}
